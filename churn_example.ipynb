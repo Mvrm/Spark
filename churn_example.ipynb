{
 "cells": [
  {
   "cell_type": "code",
   "execution_count": null,
   "metadata": {
    "collapsed": true
   },
   "outputs": [],
   "source": [
    "import org.apache.log4j.{Level, Logger}\n",
    "import org.apache.spark.ml.classification.RandomForestClassifier\n",
    "import org.apache.spark.ml.evaluation.BinaryClassificationEvaluator\n",
    "import org.apache.spark.ml.feature.{StringIndexer, VectorAssembler}\n",
    "import org.apache.spark.sql.types._"
   ]
  },
  {
   "cell_type": "code",
   "execution_count": null,
   "metadata": {
    "collapsed": true
   },
   "outputs": [],
   "source": [
    "import org.apache.spark.sql.SparkSession\n",
    "\n",
    "\n",
    "object ChurnExample {\n",
    "\n",
    "  def main(args: Array[String]) {\n",
    "\n",
    "    Logger.getLogger(\"org\").setLevel(Level.OFF)\n",
    "    Logger.getLogger(\"akka\").setLevel(Level.OFF)\n",
    "\n",
    "    val spark = SparkSession\n",
    "      .builder\n",
    "      .appName(\"ChurnExample\")\n",
    "      .master(\"local\")\n",
    "      .getOrCreate()"
   ]
  },
  {
   "cell_type": "code",
   "execution_count": null,
   "metadata": {
    "collapsed": true
   },
   "outputs": [],
   "source": []
  }
 ],
 "metadata": {
  "kernelspec": {
   "display_name": "Apache Toree - Scala",
   "language": "scala",
   "name": "apache_toree_scala"
  }
 },
 "nbformat": 4,
 "nbformat_minor": 2
}
